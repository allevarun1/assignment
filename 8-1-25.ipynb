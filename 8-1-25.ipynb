{
 "cells": [
  {
   "cell_type": "markdown",
   "id": "2240dea9-3629-4008-8c6f-d9fb990a4593",
   "metadata": {},
   "source": [
    "### conventionsl if-else\n"
   ]
  },
  {
   "cell_type": "code",
   "execution_count": 2,
   "id": "16efccb0-217a-4134-aa98-221ab12eaaf7",
   "metadata": {},
   "outputs": [
    {
     "name": "stdout",
     "output_type": "stream",
     "text": [
      "odd\n"
     ]
    }
   ],
   "source": [
    "num = 5\n",
    "if num %2 == 0:\n",
    "    print(\"even\")\n",
    "else:\n",
    "    print(\"odd\")"
   ]
  },
  {
   "cell_type": "raw",
   "id": "4d929e20-86d0-4b1e-91a7-fefceda8bc74",
   "metadata": {},
   "source": [
    "print(\"even\") if num % 2 == 0 else print(\"odd\")"
   ]
  },
  {
   "cell_type": "code",
   "execution_count": 3,
   "id": "69fa61c4-235e-450a-934f-5ec0a53b0365",
   "metadata": {},
   "outputs": [
    {
     "name": "stdout",
     "output_type": "stream",
     "text": [
      "odd\n"
     ]
    }
   ],
   "source": [
    "num = 5\n",
    "print(\"even\") if num % 2 == 0 else print(\"odd\")"
   ]
  },
  {
   "cell_type": "code",
   "execution_count": 5,
   "id": "03d86d99-fe79-4f89-b1d7-a4e1ebb2349f",
   "metadata": {},
   "outputs": [
    {
     "name": "stdout",
     "output_type": "stream",
     "text": [
      "Positive\n"
     ]
    }
   ],
   "source": [
    "x = 10\n",
    "result = \"Positive\" if x>0 else \"Negative\"\n",
    "print(result)\n",
    " "
   ]
  },
  {
   "cell_type": "code",
   "execution_count": 7,
   "id": "3f9d650a-7fa3-4b98-ac7d-7c79ac43700e",
   "metadata": {},
   "outputs": [
    {
     "name": "stdout",
     "output_type": "stream",
     "text": [
      "Adult\n"
     ]
    }
   ],
   "source": [
    "a = 18\n",
    "c = \"Adult\" if a >= 18 else \"minor\"\n",
    "print(c)"
   ]
  },
  {
   "cell_type": "code",
   "execution_count": 15,
   "id": "c2b8b761-342f-40ed-af89-9d728b77bdb1",
   "metadata": {},
   "outputs": [
    {
     "name": "stdin",
     "output_type": "stream",
     "text": [
      "Enter a number:  -58\n"
     ]
    },
    {
     "name": "stdout",
     "output_type": "stream",
     "text": [
      "Negative\n"
     ]
    }
   ],
   "source": [
    "num = int(input(\"Enter a number: \"))\n",
    "result = \"positive\" if num > 0 else (\"Negative\" if num < 0 else \"zero\")\n",
    "print(result)"
   ]
  },
  {
   "cell_type": "markdown",
   "id": "9d8bbd68-80f4-43e7-9500-a0c280b22d28",
   "metadata": {},
   "source": [
    "### List comprehension\n"
   ]
  },
  {
   "cell_type": "code",
   "execution_count": 18,
   "id": "cd928b9d-6d56-48ba-b243-98964b355474",
   "metadata": {},
   "outputs": [
    {
     "data": {
      "text/plain": [
       "[2, 64, 90, 156, 172]"
      ]
     },
     "execution_count": 18,
     "metadata": {},
     "output_type": "execute_result"
    }
   ],
   "source": [
    "L = [1,32,45,78,86]\n",
    "[2 * x for x in L]"
   ]
  },
  {
   "cell_type": "code",
   "execution_count": 20,
   "id": "4b2cb5b8-e2ad-4128-85bc-4ba9fbf9c376",
   "metadata": {},
   "outputs": [
    {
     "data": {
      "text/plain": [
       "[3, 34, 47, 80, 88]"
      ]
     },
     "execution_count": 20,
     "metadata": {},
     "output_type": "execute_result"
    }
   ],
   "source": [
    "L = [1,32,45,78,86]\n",
    "[2 + x for x in L]"
   ]
  },
  {
   "cell_type": "code",
   "execution_count": 22,
   "id": "e065bf0b-3875-4dc6-b36b-9b6394db45c2",
   "metadata": {},
   "outputs": [
    {
     "data": {
      "text/plain": [
       "[2.0, 0.0625, 0.044444444444444446, 0.02564102564102564, 0.023255813953488372]"
      ]
     },
     "execution_count": 22,
     "metadata": {},
     "output_type": "execute_result"
    }
   ],
   "source": [
    "L = [1,32,45,78,86]\n",
    "[2 / x for x in L]"
   ]
  },
  {
   "cell_type": "code",
   "execution_count": 24,
   "id": "6eb82763-ff15-4b0b-8339-36137daa62cc",
   "metadata": {},
   "outputs": [
    {
     "data": {
      "text/plain": [
       "[0, 2, 2, 2, 2]"
      ]
     },
     "execution_count": 24,
     "metadata": {},
     "output_type": "execute_result"
    }
   ],
   "source": [
    "L = [1,32,45,78,86]\n",
    "[2 % x for x in L]"
   ]
  },
  {
   "cell_type": "code",
   "execution_count": 26,
   "id": "c305e76d-2dff-42b1-9161-20cf1f4e23f7",
   "metadata": {},
   "outputs": [
    {
     "data": {
      "text/plain": [
       "[2, 10, 56]"
      ]
     },
     "execution_count": 26,
     "metadata": {},
     "output_type": "execute_result"
    }
   ],
   "source": [
    "L = [1,9,2,10,56,89]\n",
    "[x for x in L if x%2 == 0]"
   ]
  },
  {
   "cell_type": "code",
   "execution_count": 30,
   "id": "7e59a6ce-38cd-479a-a48a-244e12611c7c",
   "metadata": {},
   "outputs": [
    {
     "data": {
      "text/plain": [
       "[1, 9, 89]"
      ]
     },
     "execution_count": 30,
     "metadata": {},
     "output_type": "execute_result"
    }
   ],
   "source": [
    "L = [1,9,2,10,56,89]\n",
    "[x for x in L if x%2 != 0]"
   ]
  },
  {
   "cell_type": "code",
   "execution_count": 58,
   "id": "2b08ba9b-ae25-4095-81a1-3990e6b45ade",
   "metadata": {},
   "outputs": [
    {
     "data": {
      "text/plain": [
       "[48000.0, 60000.0, 80000, 60000]"
      ]
     },
     "execution_count": 58,
     "metadata": {},
     "output_type": "execute_result"
    }
   ],
   "source": [
    "sal = [40000,50000,80000,60000]\n",
    "[(x*1.2 if x<= 50000 else x) for x in sal]"
   ]
  },
  {
   "cell_type": "markdown",
   "id": "58cab4e3-78e4-40c4-9625-e85cdfedb865",
   "metadata": {},
   "source": [
    "### Dictionary comprehension\n"
   ]
  },
  {
   "cell_type": "code",
   "execution_count": 61,
   "id": "c1999e89-2dea-4f5f-8af3-6b7afe51ccc5",
   "metadata": {},
   "outputs": [
    {
     "data": {
      "text/plain": [
       "{'Ram': [23, 35, 57, 78, 54], 'john': [45, 38, 89, 68, 93]}"
      ]
     },
     "execution_count": 61,
     "metadata": {},
     "output_type": "execute_result"
    }
   ],
   "source": [
    "d1 = {'Ram' : [23,35,57,78,54], 'john':[45,38,89,68,93]}\n",
    "d1"
   ]
  },
  {
   "cell_type": "code",
   "execution_count": 63,
   "id": "732b9a7a-3330-447b-a09d-0d0707ec2ed2",
   "metadata": {},
   "outputs": [
    {
     "data": {
      "text/plain": [
       "{'Ram': 49.4, 'john': 66.6}"
      ]
     },
     "execution_count": 63,
     "metadata": {},
     "output_type": "execute_result"
    }
   ],
   "source": [
    "{k : sum(v)/len(v) for k,v in d1.items()}"
   ]
  },
  {
   "cell_type": "code",
   "execution_count": 13,
   "id": "999ea840-aa61-435e-90f3-d05334423123",
   "metadata": {},
   "outputs": [],
   "source": [
    "def mean(l):\n",
    "    #total = sum(l)\n",
    "    average = sum(l)/len(l)\n",
    "    return average"
   ]
  },
  {
   "cell_type": "code",
   "execution_count": 16,
   "id": "685df4ff-7659-4709-8018-6dc732ddea89",
   "metadata": {},
   "outputs": [
    {
     "data": {
      "text/plain": [
       "425.0"
      ]
     },
     "execution_count": 16,
     "metadata": {},
     "output_type": "execute_result"
    }
   ],
   "source": [
    "l = [35,464,545,656]\n",
    "mean(l)"
   ]
  },
  {
   "cell_type": "code",
   "execution_count": 24,
   "id": "bee86942-2fff-49a3-8fa4-5a88e9205206",
   "metadata": {},
   "outputs": [],
   "source": [
    "def greet(name):\n",
    "    a = \"Good Morning\"\n",
    "    return (a+name)"
   ]
  },
  {
   "cell_type": "code",
   "execution_count": 30,
   "id": "28d1609f-4871-420d-8d20-8b0af4b487f1",
   "metadata": {},
   "outputs": [
    {
     "data": {
      "text/plain": [
       "'Good Morning varun'"
      ]
     },
     "execution_count": 30,
     "metadata": {},
     "output_type": "execute_result"
    }
   ],
   "source": [
    "greet(\" varun\")"
   ]
  },
  {
   "cell_type": "code",
   "execution_count": 40,
   "id": "fb0f8b9b-f460-41f2-bdc2-339731cb2084",
   "metadata": {},
   "outputs": [],
   "source": [
    "def good(name = \"vinay\"):\n",
    "    print(f\"hello! mr \"+{name})"
   ]
  },
  {
   "cell_type": "code",
   "execution_count": 44,
   "id": "6c9a3785-d2f8-4a3a-bea9-5c897f0db6fc",
   "metadata": {},
   "outputs": [],
   "source": [
    "def avg(*n):\n",
    "    aver = sum(n)/len(n)\n",
    "    return aver"
   ]
  },
  {
   "cell_type": "code",
   "execution_count": 46,
   "id": "58b1d62a-50e8-4513-b4bd-0497e79f0dc1",
   "metadata": {},
   "outputs": [
    {
     "data": {
      "text/plain": [
       "180.0"
      ]
     },
     "execution_count": 46,
     "metadata": {},
     "output_type": "execute_result"
    }
   ],
   "source": [
    "avg(23,343,56,5,88,565)"
   ]
  },
  {
   "cell_type": "code",
   "execution_count": null,
   "id": "1787961d-760f-4da9-a6af-8b625c62ecea",
   "metadata": {},
   "outputs": [],
   "source": []
  }
 ],
 "metadata": {
  "kernelspec": {
   "display_name": "Python [conda env:base] *",
   "language": "python",
   "name": "conda-base-py"
  },
  "language_info": {
   "codemirror_mode": {
    "name": "ipython",
    "version": 3
   },
   "file_extension": ".py",
   "mimetype": "text/x-python",
   "name": "python",
   "nbconvert_exporter": "python",
   "pygments_lexer": "ipython3",
   "version": "3.12.7"
  }
 },
 "nbformat": 4,
 "nbformat_minor": 5
}
